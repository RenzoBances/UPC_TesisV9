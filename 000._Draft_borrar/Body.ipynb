{
 "cells": [
  {
   "cell_type": "code",
   "execution_count": 1,
   "id": "6c4ff8a4",
   "metadata": {},
   "outputs": [],
   "source": [
    "#!pip install pyanatomogram\n",
    "#!pip install seaborn"
   ]
  },
  {
   "cell_type": "code",
   "execution_count": 2,
   "id": "d3f1ceb0",
   "metadata": {},
   "outputs": [],
   "source": [
    "import pyanatomogram\n",
    "import pandas as pd\n",
    "import matplotlib as mpl\n",
    "import matplotlib.pyplot as plt\n",
    "import seaborn as sns\n",
    "import warnings\n",
    "warnings.filterwarnings(\"ignore\")"
   ]
  },
  {
   "cell_type": "code",
   "execution_count": 3,
   "id": "adb16312",
   "metadata": {},
   "outputs": [
    {
     "name": "stdout",
     "output_type": "stream",
     "text": [
      "cerebral cortex ::: #db5f57\n"
     ]
    },
    {
     "name": "stderr",
     "output_type": "stream",
     "text": [
      "Unknown tag inkscape:path-effect\n",
      "Unknown tag a\n",
      "Unknown tag title\n",
      "Unknown tag title\n",
      "Unknown tag title\n",
      "Unknown tag title\n",
      "Unknown tag title\n",
      "Unknown tag title\n",
      "Unknown tag title\n",
      "Unknown tag title\n",
      "Unknown tag title\n",
      "Unknown tag title\n",
      "Unknown tag use\n",
      "Unknown tag use\n",
      "Unknown tag use\n",
      "Unknown tag use\n",
      "Unknown tag use\n",
      "Unknown tag use\n",
      "Unknown tag use\n",
      "Unknown tag use\n",
      "Unknown tag title\n",
      "Unknown tag title\n",
      "Unknown tag title\n",
      "Unknown tag title\n",
      "Unknown tag use\n",
      "Unknown tag title\n",
      "Unknown tag title\n",
      "Unknown tag title\n",
      "Unknown tag title\n",
      "Unknown tag title\n",
      "Unknown tag use\n",
      "Unknown tag title\n",
      "Unknown tag title\n",
      "Unknown tag title\n",
      "Unknown tag title\n",
      "Unknown tag title\n",
      "Unknown tag title\n",
      "Unknown tag title\n",
      "Unknown tag title\n",
      "Unknown tag title\n",
      "Unknown tag title\n"
     ]
    },
    {
     "name": "stdout",
     "output_type": "stream",
     "text": [
      "dict_keys(['cerebral cortex', 'pleura', 'brain', 'heart', 'breast', 'thyroid gland', 'adrenal gland', 'lymph node', 'bone marrow', 'adipose tissue', 'skeletal muscle', 'leukocyte', 'frontal cortex', 'temporal lobe', 'prefrontal cortex', 'pituitary gland', 'atrial appendage', 'aorta', 'coronary artery', 'gastroesophageal junction', 'left ventricle', 'hippocampus', 'caecum', 'ileum', 'rectum', 'nose', 'tongue', 'left atrium', 'pulmonary valve', 'mitral valve', 'penis', 'vas deferens', 'seminal vesicle', 'testis', 'epididymis', 'eye', 'nasal septum', 'oral cavity', 'tonsil', 'nasal pharynx', 'lung', 'spinal cord', 'amygdala', 'trachea', 'throat', 'bronchus', 'tricuspid valve', 'diaphragm', 'liver', 'stomach', 'spleen', 'duodenum', 'gall bladder', 'pancreas', 'colon', 'small intestine', 'appendix', 'smooth muscle', 'urinary bladder', 'prostate gland', 'nerve', 'cerebellum', 'cerebellar hemisphere', 'kidney', 'renal cortex', 'bone', 'cartilage', 'esophagus', 'salivary gland', 'parotid gland', 'submandibular gland', 'skin', 'outline'])\n"
     ]
    },
    {
     "name": "stderr",
     "output_type": "stream",
     "text": [
      "Unknown tag inkscape:path-effect\n",
      "Unknown tag a\n",
      "Unknown tag title\n",
      "Unknown tag title\n",
      "Unknown tag title\n",
      "Unknown tag title\n",
      "Unknown tag title\n",
      "Unknown tag title\n",
      "Unknown tag title\n",
      "Unknown tag title\n",
      "Unknown tag title\n",
      "Unknown tag title\n",
      "Unknown tag use\n",
      "Unknown tag use\n",
      "Unknown tag use\n",
      "Unknown tag use\n",
      "Unknown tag use\n",
      "Unknown tag use\n",
      "Unknown tag use\n",
      "Unknown tag use\n",
      "Unknown tag title\n",
      "Unknown tag title\n",
      "Unknown tag title\n",
      "Unknown tag title\n",
      "Unknown tag use\n",
      "Unknown tag title\n",
      "Unknown tag title\n",
      "Unknown tag title\n",
      "Unknown tag title\n",
      "Unknown tag title\n",
      "Unknown tag use\n",
      "Unknown tag title\n",
      "Unknown tag title\n",
      "Unknown tag title\n",
      "Unknown tag title\n",
      "Unknown tag title\n",
      "Unknown tag title\n",
      "Unknown tag title\n",
      "Unknown tag title\n",
      "Unknown tag title\n",
      "Unknown tag title\n"
     ]
    },
    {
     "name": "stdout",
     "output_type": "stream",
     "text": [
      "dict_values([<matplotlib.collections.PatchCollection object at 0x000001AB412BC460>, <matplotlib.collections.PatchCollection object at 0x000001AB448BB880>, <matplotlib.collections.PatchCollection object at 0x000001AB448BBC70>, <matplotlib.collections.PatchCollection object at 0x000001AB448BBFD0>, <matplotlib.collections.PatchCollection object at 0x000001AB42428430>, <matplotlib.collections.PatchCollection object at 0x000001AB42428820>, <matplotlib.collections.PatchCollection object at 0x000001AB42428BE0>, <matplotlib.collections.PatchCollection object at 0x000001AB42428FD0>, <matplotlib.collections.PatchCollection object at 0x000001AB42429540>, <matplotlib.collections.PatchCollection object at 0x000001AB42429900>, <matplotlib.collections.PatchCollection object at 0x000001AB42429D20>, <matplotlib.collections.PatchCollection object at 0x000001AB4242A1A0>, <matplotlib.collections.PatchCollection object at 0x000001AB4242A7D0>, <matplotlib.collections.PatchCollection object at 0x000001AB4242AB90>, <matplotlib.collections.PatchCollection object at 0x000001AB4242AF80>, <matplotlib.collections.PatchCollection object at 0x000001AB4242B340>, <matplotlib.collections.PatchCollection object at 0x000001AB4242B700>, <matplotlib.collections.PatchCollection object at 0x000001AB4242BAF0>, <matplotlib.collections.PatchCollection object at 0x000001AB4242BEB0>, <matplotlib.collections.PatchCollection object at 0x000001AB4240C2E0>, <matplotlib.collections.PatchCollection object at 0x000001AB4240C6A0>, <matplotlib.collections.PatchCollection object at 0x000001AB4240CA60>, <matplotlib.collections.PatchCollection object at 0x000001AB4240CE50>, <matplotlib.collections.PatchCollection object at 0x000001AB4240D210>, <matplotlib.collections.PatchCollection object at 0x000001AB4240D5D0>, <matplotlib.collections.PatchCollection object at 0x000001AB4240D990>, <matplotlib.collections.PatchCollection object at 0x000001AB4240DD50>, <matplotlib.collections.PatchCollection object at 0x000001AB4240E110>, <matplotlib.collections.PatchCollection object at 0x000001AB4240E4D0>, <matplotlib.collections.PatchCollection object at 0x000001AB4240E8C0>, <matplotlib.collections.PatchCollection object at 0x000001AB4240EC80>, <matplotlib.collections.PatchCollection object at 0x000001AB4240F040>, <matplotlib.collections.PatchCollection object at 0x000001AB4240F430>, <matplotlib.collections.PatchCollection object at 0x000001AB4240F880>, <matplotlib.collections.PatchCollection object at 0x000001AB4240FC70>, <matplotlib.collections.PatchCollection object at 0x000001AB4240FF70>, <matplotlib.collections.PatchCollection object at 0x000001AB42440490>, <matplotlib.collections.PatchCollection object at 0x000001AB42440850>, <matplotlib.collections.PatchCollection object at 0x000001AB42440C10>, <matplotlib.collections.PatchCollection object at 0x000001AB42441000>, <matplotlib.collections.PatchCollection object at 0x000001AB424413C0>, <matplotlib.collections.PatchCollection object at 0x000001AB424417B0>, <matplotlib.collections.PatchCollection object at 0x000001AB42441B70>, <matplotlib.collections.PatchCollection object at 0x000001AB42441F60>, <matplotlib.collections.PatchCollection object at 0x000001AB42443AC0>, <matplotlib.collections.PatchCollection object at 0x000001AB42443E80>, <matplotlib.collections.PatchCollection object at 0x000001AB42405480>, <matplotlib.collections.PatchCollection object at 0x000001AB42405840>, <matplotlib.collections.PatchCollection object at 0x000001AB42405C00>, <matplotlib.collections.PatchCollection object at 0x000001AB42405FC0>, <matplotlib.collections.PatchCollection object at 0x000001AB42406380>, <matplotlib.collections.PatchCollection object at 0x000001AB42406800>, <matplotlib.collections.PatchCollection object at 0x000001AB42406C20>, <matplotlib.collections.PatchCollection object at 0x000001AB42406FE0>, <matplotlib.collections.PatchCollection object at 0x000001AB424073A0>, <matplotlib.collections.PatchCollection object at 0x000001AB42407700>, <matplotlib.collections.PatchCollection object at 0x000001AB42407A00>, <matplotlib.collections.PatchCollection object at 0x000001AB42407DC0>, <matplotlib.collections.PatchCollection object at 0x000001AB423E01C0>, <matplotlib.collections.PatchCollection object at 0x000001AB423E0580>, <matplotlib.collections.PatchCollection object at 0x000001AB423E0940>, <matplotlib.collections.PatchCollection object at 0x000001AB423E12D0>, <matplotlib.collections.PatchCollection object at 0x000001AB423E16C0>, <matplotlib.collections.PatchCollection object at 0x000001AB423E1AE0>, <matplotlib.collections.PatchCollection object at 0x000001AB423E1ED0>, <matplotlib.collections.PatchCollection object at 0x000001AB423E22C0>, <matplotlib.collections.PatchCollection object at 0x000001AB423E2680>, <matplotlib.collections.PatchCollection object at 0x000001AB423E2A40>, <matplotlib.collections.PatchCollection object at 0x000001AB423E2E00>, <matplotlib.collections.PatchCollection object at 0x000001AB423E31C0>, <matplotlib.collections.PatchCollection object at 0x000001AB423E3580>, <matplotlib.collections.PatchCollection object at 0x000001AB423E3940>, <matplotlib.collections.PatchCollection object at 0x000001AB412BCB20>])\n",
      "pleura ::: #db6a57\n"
     ]
    },
    {
     "name": "stderr",
     "output_type": "stream",
     "text": [
      "Unknown tag inkscape:path-effect\n",
      "Unknown tag a\n",
      "Unknown tag title\n",
      "Unknown tag title\n",
      "Unknown tag title\n",
      "Unknown tag title\n",
      "Unknown tag title\n",
      "Unknown tag title\n",
      "Unknown tag title\n",
      "Unknown tag title\n",
      "Unknown tag title\n",
      "Unknown tag title\n",
      "Unknown tag use\n",
      "Unknown tag use\n",
      "Unknown tag use\n",
      "Unknown tag use\n",
      "Unknown tag use\n",
      "Unknown tag use\n",
      "Unknown tag use\n",
      "Unknown tag use\n",
      "Unknown tag title\n",
      "Unknown tag title\n",
      "Unknown tag title\n",
      "Unknown tag title\n",
      "Unknown tag use\n",
      "Unknown tag title\n",
      "Unknown tag title\n",
      "Unknown tag title\n",
      "Unknown tag title\n",
      "Unknown tag title\n",
      "Unknown tag use\n",
      "Unknown tag title\n",
      "Unknown tag title\n",
      "Unknown tag title\n",
      "Unknown tag title\n",
      "Unknown tag title\n",
      "Unknown tag title\n",
      "Unknown tag title\n",
      "Unknown tag title\n",
      "Unknown tag title\n",
      "Unknown tag title\n"
     ]
    },
    {
     "name": "stdout",
     "output_type": "stream",
     "text": [
      "dict_keys(['cerebral cortex', 'pleura', 'brain', 'heart', 'breast', 'thyroid gland', 'adrenal gland', 'lymph node', 'bone marrow', 'adipose tissue', 'skeletal muscle', 'leukocyte', 'frontal cortex', 'temporal lobe', 'prefrontal cortex', 'pituitary gland', 'atrial appendage', 'aorta', 'coronary artery', 'gastroesophageal junction', 'left ventricle', 'hippocampus', 'caecum', 'ileum', 'rectum', 'nose', 'tongue', 'left atrium', 'pulmonary valve', 'mitral valve', 'penis', 'vas deferens', 'seminal vesicle', 'testis', 'epididymis', 'eye', 'nasal septum', 'oral cavity', 'tonsil', 'nasal pharynx', 'lung', 'spinal cord', 'amygdala', 'trachea', 'throat', 'bronchus', 'tricuspid valve', 'diaphragm', 'liver', 'stomach', 'spleen', 'duodenum', 'gall bladder', 'pancreas', 'colon', 'small intestine', 'appendix', 'smooth muscle', 'urinary bladder', 'prostate gland', 'nerve', 'cerebellum', 'cerebellar hemisphere', 'kidney', 'renal cortex', 'bone', 'cartilage', 'esophagus', 'salivary gland', 'parotid gland', 'submandibular gland', 'skin', 'outline'])\n"
     ]
    },
    {
     "name": "stderr",
     "output_type": "stream",
     "text": [
      "Unknown tag inkscape:path-effect\n",
      "Unknown tag a\n",
      "Unknown tag title\n",
      "Unknown tag title\n",
      "Unknown tag title\n",
      "Unknown tag title\n",
      "Unknown tag title\n",
      "Unknown tag title\n",
      "Unknown tag title\n",
      "Unknown tag title\n",
      "Unknown tag title\n",
      "Unknown tag title\n",
      "Unknown tag use\n",
      "Unknown tag use\n",
      "Unknown tag use\n",
      "Unknown tag use\n",
      "Unknown tag use\n",
      "Unknown tag use\n",
      "Unknown tag use\n",
      "Unknown tag use\n",
      "Unknown tag title\n",
      "Unknown tag title\n",
      "Unknown tag title\n",
      "Unknown tag title\n",
      "Unknown tag use\n",
      "Unknown tag title\n",
      "Unknown tag title\n",
      "Unknown tag title\n",
      "Unknown tag title\n",
      "Unknown tag title\n",
      "Unknown tag use\n",
      "Unknown tag title\n",
      "Unknown tag title\n",
      "Unknown tag title\n",
      "Unknown tag title\n",
      "Unknown tag title\n",
      "Unknown tag title\n",
      "Unknown tag title\n",
      "Unknown tag title\n",
      "Unknown tag title\n",
      "Unknown tag title\n"
     ]
    },
    {
     "name": "stdout",
     "output_type": "stream",
     "text": [
      "dict_values([<matplotlib.collections.PatchCollection object at 0x000001AB44647E20>, <matplotlib.collections.PatchCollection object at 0x000001AB44A1D120>, <matplotlib.collections.PatchCollection object at 0x000001AB44A1D510>, <matplotlib.collections.PatchCollection object at 0x000001AB44A1D8D0>, <matplotlib.collections.PatchCollection object at 0x000001AB44A1DC90>, <matplotlib.collections.PatchCollection object at 0x000001AB44A1E080>, <matplotlib.collections.PatchCollection object at 0x000001AB44A1E440>, <matplotlib.collections.PatchCollection object at 0x000001AB44A1E830>, <matplotlib.collections.PatchCollection object at 0x000001AB44A1EDA0>, <matplotlib.collections.PatchCollection object at 0x000001AB44A1F160>, <matplotlib.collections.PatchCollection object at 0x000001AB44A1F580>, <matplotlib.collections.PatchCollection object at 0x000001AB44A1FA00>, <matplotlib.collections.PatchCollection object at 0x000001AB44A1FFD0>, <matplotlib.collections.PatchCollection object at 0x000001AB446D8430>, <matplotlib.collections.PatchCollection object at 0x000001AB446D8820>, <matplotlib.collections.PatchCollection object at 0x000001AB446D8BE0>, <matplotlib.collections.PatchCollection object at 0x000001AB446D8FA0>, <matplotlib.collections.PatchCollection object at 0x000001AB446D9390>, <matplotlib.collections.PatchCollection object at 0x000001AB446D9750>, <matplotlib.collections.PatchCollection object at 0x000001AB446D9B40>, <matplotlib.collections.PatchCollection object at 0x000001AB446D9F00>, <matplotlib.collections.PatchCollection object at 0x000001AB446DA2C0>, <matplotlib.collections.PatchCollection object at 0x000001AB446DA6B0>, <matplotlib.collections.PatchCollection object at 0x000001AB446DAA70>, <matplotlib.collections.PatchCollection object at 0x000001AB446DAE30>, <matplotlib.collections.PatchCollection object at 0x000001AB446DB1F0>, <matplotlib.collections.PatchCollection object at 0x000001AB446DB5B0>, <matplotlib.collections.PatchCollection object at 0x000001AB446DB970>, <matplotlib.collections.PatchCollection object at 0x000001AB446DBD30>, <matplotlib.collections.PatchCollection object at 0x000001AB42594130>, <matplotlib.collections.PatchCollection object at 0x000001AB425944F0>, <matplotlib.collections.PatchCollection object at 0x000001AB425948B0>, <matplotlib.collections.PatchCollection object at 0x000001AB42594CA0>, <matplotlib.collections.PatchCollection object at 0x000001AB425950F0>, <matplotlib.collections.PatchCollection object at 0x000001AB425954E0>, <matplotlib.collections.PatchCollection object at 0x000001AB425958D0>, <matplotlib.collections.PatchCollection object at 0x000001AB42595CC0>, <matplotlib.collections.PatchCollection object at 0x000001AB42596080>, <matplotlib.collections.PatchCollection object at 0x000001AB42596440>, <matplotlib.collections.PatchCollection object at 0x000001AB42596830>, <matplotlib.collections.PatchCollection object at 0x000001AB42596BF0>, <matplotlib.collections.PatchCollection object at 0x000001AB42596FE0>, <matplotlib.collections.PatchCollection object at 0x000001AB425973A0>, <matplotlib.collections.PatchCollection object at 0x000001AB42597790>, <matplotlib.collections.PatchCollection object at 0x000001AB42549300>, <matplotlib.collections.PatchCollection object at 0x000001AB425496C0>, <matplotlib.collections.PatchCollection object at 0x000001AB4254AC80>, <matplotlib.collections.PatchCollection object at 0x000001AB4254B040>, <matplotlib.collections.PatchCollection object at 0x000001AB4254B400>, <matplotlib.collections.PatchCollection object at 0x000001AB4254B7C0>, <matplotlib.collections.PatchCollection object at 0x000001AB4254BB80>, <matplotlib.collections.PatchCollection object at 0x000001AB4254BF40>, <matplotlib.collections.PatchCollection object at 0x000001AB42550340>, <matplotlib.collections.PatchCollection object at 0x000001AB42550700>, <matplotlib.collections.PatchCollection object at 0x000001AB42550AC0>, <matplotlib.collections.PatchCollection object at 0x000001AB42550E80>, <matplotlib.collections.PatchCollection object at 0x000001AB42551240>, <matplotlib.collections.PatchCollection object at 0x000001AB42551600>, <matplotlib.collections.PatchCollection object at 0x000001AB425519C0>, <matplotlib.collections.PatchCollection object at 0x000001AB42551D80>, <matplotlib.collections.PatchCollection object at 0x000001AB42552140>, <matplotlib.collections.PatchCollection object at 0x000001AB42552AD0>, <matplotlib.collections.PatchCollection object at 0x000001AB42552EC0>, <matplotlib.collections.PatchCollection object at 0x000001AB425532B0>, <matplotlib.collections.PatchCollection object at 0x000001AB425536A0>, <matplotlib.collections.PatchCollection object at 0x000001AB42553A90>, <matplotlib.collections.PatchCollection object at 0x000001AB42553E50>, <matplotlib.collections.PatchCollection object at 0x000001AB42580250>, <matplotlib.collections.PatchCollection object at 0x000001AB42580610>, <matplotlib.collections.PatchCollection object at 0x000001AB425809D0>, <matplotlib.collections.PatchCollection object at 0x000001AB42580D90>, <matplotlib.collections.PatchCollection object at 0x000001AB42581150>, <matplotlib.collections.PatchCollection object at 0x000001AB424285E0>])\n",
      "Error in callback <function flush_figures at 0x000001AB41205A20> (for post_execute):\n"
     ]
    },
    {
     "name": "stderr",
     "output_type": "stream",
     "text": [
      "\n",
      "KeyboardInterrupt\n",
      "\n"
     ]
    }
   ],
   "source": [
    "organism = 'homo_sapiens.male'\n",
    "\n",
    "\n",
    "anatomogram = pyanatomogram.Anatomogram(organism)\n",
    "parts = anatomogram.get_tissue_names()\n",
    "n_parts = len(parts)\n",
    "palette = sns.color_palette(\"hls\", n_parts)\n",
    "palette_hex = palette.as_hex()\n",
    "\n",
    "i=0\n",
    "for part, color_hex in zip(parts, palette_hex):\n",
    "    print(part, \":::\", color_hex)\n",
    "    anatomogram.set_tissue_style(part, fill=color_hex)\n",
    "    #anatomogram.to_matplotlib()\n",
    "    #print(type(anatomogram.to_matplotlib().keys()))\n",
    "    print(anatomogram.to_matplotlib().keys())\n",
    "    print(anatomogram.to_matplotlib().values() )\n",
    "    if i > 0: break\n",
    "    i += 1\n",
    "\n",
    "\n",
    "\n",
    "\n",
    "\n"
   ]
  },
  {
   "cell_type": "code",
   "execution_count": 4,
   "id": "cfc0c96c",
   "metadata": {},
   "outputs": [
    {
     "data": {
      "text/html": [
       "<svg  width=\"3960\" height=\"55\"><rect x=\"0\" y=\"0\" width=\"55\" height=\"55\" style=\"fill:#db5f57;stroke-width:2;stroke:rgb(255,255,255)\"/><rect x=\"55\" y=\"0\" width=\"55\" height=\"55\" style=\"fill:#db6a57;stroke-width:2;stroke:rgb(255,255,255)\"/><rect x=\"110\" y=\"0\" width=\"55\" height=\"55\" style=\"fill:#db7557;stroke-width:2;stroke:rgb(255,255,255)\"/><rect x=\"165\" y=\"0\" width=\"55\" height=\"55\" style=\"fill:#db8057;stroke-width:2;stroke:rgb(255,255,255)\"/><rect x=\"220\" y=\"0\" width=\"55\" height=\"55\" style=\"fill:#db8b57;stroke-width:2;stroke:rgb(255,255,255)\"/><rect x=\"275\" y=\"0\" width=\"55\" height=\"55\" style=\"fill:#db9657;stroke-width:2;stroke:rgb(255,255,255)\"/><rect x=\"330\" y=\"0\" width=\"55\" height=\"55\" style=\"fill:#dba157;stroke-width:2;stroke:rgb(255,255,255)\"/><rect x=\"385\" y=\"0\" width=\"55\" height=\"55\" style=\"fill:#dbac57;stroke-width:2;stroke:rgb(255,255,255)\"/><rect x=\"440\" y=\"0\" width=\"55\" height=\"55\" style=\"fill:#dbb757;stroke-width:2;stroke:rgb(255,255,255)\"/><rect x=\"495\" y=\"0\" width=\"55\" height=\"55\" style=\"fill:#dbc257;stroke-width:2;stroke:rgb(255,255,255)\"/><rect x=\"550\" y=\"0\" width=\"55\" height=\"55\" style=\"fill:#dbcd57;stroke-width:2;stroke:rgb(255,255,255)\"/><rect x=\"605\" y=\"0\" width=\"55\" height=\"55\" style=\"fill:#dbd857;stroke-width:2;stroke:rgb(255,255,255)\"/><rect x=\"660\" y=\"0\" width=\"55\" height=\"55\" style=\"fill:#d3db57;stroke-width:2;stroke:rgb(255,255,255)\"/><rect x=\"715\" y=\"0\" width=\"55\" height=\"55\" style=\"fill:#c8db57;stroke-width:2;stroke:rgb(255,255,255)\"/><rect x=\"770\" y=\"0\" width=\"55\" height=\"55\" style=\"fill:#bddb57;stroke-width:2;stroke:rgb(255,255,255)\"/><rect x=\"825\" y=\"0\" width=\"55\" height=\"55\" style=\"fill:#b2db57;stroke-width:2;stroke:rgb(255,255,255)\"/><rect x=\"880\" y=\"0\" width=\"55\" height=\"55\" style=\"fill:#a7db57;stroke-width:2;stroke:rgb(255,255,255)\"/><rect x=\"935\" y=\"0\" width=\"55\" height=\"55\" style=\"fill:#9cdb57;stroke-width:2;stroke:rgb(255,255,255)\"/><rect x=\"990\" y=\"0\" width=\"55\" height=\"55\" style=\"fill:#91db57;stroke-width:2;stroke:rgb(255,255,255)\"/><rect x=\"1045\" y=\"0\" width=\"55\" height=\"55\" style=\"fill:#86db57;stroke-width:2;stroke:rgb(255,255,255)\"/><rect x=\"1100\" y=\"0\" width=\"55\" height=\"55\" style=\"fill:#7bdb57;stroke-width:2;stroke:rgb(255,255,255)\"/><rect x=\"1155\" y=\"0\" width=\"55\" height=\"55\" style=\"fill:#70db57;stroke-width:2;stroke:rgb(255,255,255)\"/><rect x=\"1210\" y=\"0\" width=\"55\" height=\"55\" style=\"fill:#65db57;stroke-width:2;stroke:rgb(255,255,255)\"/><rect x=\"1265\" y=\"0\" width=\"55\" height=\"55\" style=\"fill:#5adb57;stroke-width:2;stroke:rgb(255,255,255)\"/><rect x=\"1320\" y=\"0\" width=\"55\" height=\"55\" style=\"fill:#57db5f;stroke-width:2;stroke:rgb(255,255,255)\"/><rect x=\"1375\" y=\"0\" width=\"55\" height=\"55\" style=\"fill:#57db6a;stroke-width:2;stroke:rgb(255,255,255)\"/><rect x=\"1430\" y=\"0\" width=\"55\" height=\"55\" style=\"fill:#57db75;stroke-width:2;stroke:rgb(255,255,255)\"/><rect x=\"1485\" y=\"0\" width=\"55\" height=\"55\" style=\"fill:#57db80;stroke-width:2;stroke:rgb(255,255,255)\"/><rect x=\"1540\" y=\"0\" width=\"55\" height=\"55\" style=\"fill:#57db8b;stroke-width:2;stroke:rgb(255,255,255)\"/><rect x=\"1595\" y=\"0\" width=\"55\" height=\"55\" style=\"fill:#57db96;stroke-width:2;stroke:rgb(255,255,255)\"/><rect x=\"1650\" y=\"0\" width=\"55\" height=\"55\" style=\"fill:#57dba1;stroke-width:2;stroke:rgb(255,255,255)\"/><rect x=\"1705\" y=\"0\" width=\"55\" height=\"55\" style=\"fill:#57dbac;stroke-width:2;stroke:rgb(255,255,255)\"/><rect x=\"1760\" y=\"0\" width=\"55\" height=\"55\" style=\"fill:#57dbb7;stroke-width:2;stroke:rgb(255,255,255)\"/><rect x=\"1815\" y=\"0\" width=\"55\" height=\"55\" style=\"fill:#57dbc2;stroke-width:2;stroke:rgb(255,255,255)\"/><rect x=\"1870\" y=\"0\" width=\"55\" height=\"55\" style=\"fill:#57dbcd;stroke-width:2;stroke:rgb(255,255,255)\"/><rect x=\"1925\" y=\"0\" width=\"55\" height=\"55\" style=\"fill:#57dbd8;stroke-width:2;stroke:rgb(255,255,255)\"/><rect x=\"1980\" y=\"0\" width=\"55\" height=\"55\" style=\"fill:#57d3db;stroke-width:2;stroke:rgb(255,255,255)\"/><rect x=\"2035\" y=\"0\" width=\"55\" height=\"55\" style=\"fill:#57c8db;stroke-width:2;stroke:rgb(255,255,255)\"/><rect x=\"2090\" y=\"0\" width=\"55\" height=\"55\" style=\"fill:#57bddb;stroke-width:2;stroke:rgb(255,255,255)\"/><rect x=\"2145\" y=\"0\" width=\"55\" height=\"55\" style=\"fill:#57b2db;stroke-width:2;stroke:rgb(255,255,255)\"/><rect x=\"2200\" y=\"0\" width=\"55\" height=\"55\" style=\"fill:#57a7db;stroke-width:2;stroke:rgb(255,255,255)\"/><rect x=\"2255\" y=\"0\" width=\"55\" height=\"55\" style=\"fill:#579cdb;stroke-width:2;stroke:rgb(255,255,255)\"/><rect x=\"2310\" y=\"0\" width=\"55\" height=\"55\" style=\"fill:#5791db;stroke-width:2;stroke:rgb(255,255,255)\"/><rect x=\"2365\" y=\"0\" width=\"55\" height=\"55\" style=\"fill:#5786db;stroke-width:2;stroke:rgb(255,255,255)\"/><rect x=\"2420\" y=\"0\" width=\"55\" height=\"55\" style=\"fill:#577bdb;stroke-width:2;stroke:rgb(255,255,255)\"/><rect x=\"2475\" y=\"0\" width=\"55\" height=\"55\" style=\"fill:#5770db;stroke-width:2;stroke:rgb(255,255,255)\"/><rect x=\"2530\" y=\"0\" width=\"55\" height=\"55\" style=\"fill:#5765db;stroke-width:2;stroke:rgb(255,255,255)\"/><rect x=\"2585\" y=\"0\" width=\"55\" height=\"55\" style=\"fill:#575adb;stroke-width:2;stroke:rgb(255,255,255)\"/><rect x=\"2640\" y=\"0\" width=\"55\" height=\"55\" style=\"fill:#5f57db;stroke-width:2;stroke:rgb(255,255,255)\"/><rect x=\"2695\" y=\"0\" width=\"55\" height=\"55\" style=\"fill:#6a57db;stroke-width:2;stroke:rgb(255,255,255)\"/><rect x=\"2750\" y=\"0\" width=\"55\" height=\"55\" style=\"fill:#7557db;stroke-width:2;stroke:rgb(255,255,255)\"/><rect x=\"2805\" y=\"0\" width=\"55\" height=\"55\" style=\"fill:#8057db;stroke-width:2;stroke:rgb(255,255,255)\"/><rect x=\"2860\" y=\"0\" width=\"55\" height=\"55\" style=\"fill:#8b57db;stroke-width:2;stroke:rgb(255,255,255)\"/><rect x=\"2915\" y=\"0\" width=\"55\" height=\"55\" style=\"fill:#9657db;stroke-width:2;stroke:rgb(255,255,255)\"/><rect x=\"2970\" y=\"0\" width=\"55\" height=\"55\" style=\"fill:#a157db;stroke-width:2;stroke:rgb(255,255,255)\"/><rect x=\"3025\" y=\"0\" width=\"55\" height=\"55\" style=\"fill:#ac57db;stroke-width:2;stroke:rgb(255,255,255)\"/><rect x=\"3080\" y=\"0\" width=\"55\" height=\"55\" style=\"fill:#b757db;stroke-width:2;stroke:rgb(255,255,255)\"/><rect x=\"3135\" y=\"0\" width=\"55\" height=\"55\" style=\"fill:#c257db;stroke-width:2;stroke:rgb(255,255,255)\"/><rect x=\"3190\" y=\"0\" width=\"55\" height=\"55\" style=\"fill:#cd57db;stroke-width:2;stroke:rgb(255,255,255)\"/><rect x=\"3245\" y=\"0\" width=\"55\" height=\"55\" style=\"fill:#d857db;stroke-width:2;stroke:rgb(255,255,255)\"/><rect x=\"3300\" y=\"0\" width=\"55\" height=\"55\" style=\"fill:#db57d3;stroke-width:2;stroke:rgb(255,255,255)\"/><rect x=\"3355\" y=\"0\" width=\"55\" height=\"55\" style=\"fill:#db57c8;stroke-width:2;stroke:rgb(255,255,255)\"/><rect x=\"3410\" y=\"0\" width=\"55\" height=\"55\" style=\"fill:#db57bd;stroke-width:2;stroke:rgb(255,255,255)\"/><rect x=\"3465\" y=\"0\" width=\"55\" height=\"55\" style=\"fill:#db57b2;stroke-width:2;stroke:rgb(255,255,255)\"/><rect x=\"3520\" y=\"0\" width=\"55\" height=\"55\" style=\"fill:#db57a7;stroke-width:2;stroke:rgb(255,255,255)\"/><rect x=\"3575\" y=\"0\" width=\"55\" height=\"55\" style=\"fill:#db579c;stroke-width:2;stroke:rgb(255,255,255)\"/><rect x=\"3630\" y=\"0\" width=\"55\" height=\"55\" style=\"fill:#db5791;stroke-width:2;stroke:rgb(255,255,255)\"/><rect x=\"3685\" y=\"0\" width=\"55\" height=\"55\" style=\"fill:#db5786;stroke-width:2;stroke:rgb(255,255,255)\"/><rect x=\"3740\" y=\"0\" width=\"55\" height=\"55\" style=\"fill:#db577b;stroke-width:2;stroke:rgb(255,255,255)\"/><rect x=\"3795\" y=\"0\" width=\"55\" height=\"55\" style=\"fill:#db5770;stroke-width:2;stroke:rgb(255,255,255)\"/><rect x=\"3850\" y=\"0\" width=\"55\" height=\"55\" style=\"fill:#db5765;stroke-width:2;stroke:rgb(255,255,255)\"/><rect x=\"3905\" y=\"0\" width=\"55\" height=\"55\" style=\"fill:#db575a;stroke-width:2;stroke:rgb(255,255,255)\"/></svg>"
      ],
      "text/plain": [
       "['#db5f57',\n",
       " '#db6a57',\n",
       " '#db7557',\n",
       " '#db8057',\n",
       " '#db8b57',\n",
       " '#db9657',\n",
       " '#dba157',\n",
       " '#dbac57',\n",
       " '#dbb757',\n",
       " '#dbc257',\n",
       " '#dbcd57',\n",
       " '#dbd857',\n",
       " '#d3db57',\n",
       " '#c8db57',\n",
       " '#bddb57',\n",
       " '#b2db57',\n",
       " '#a7db57',\n",
       " '#9cdb57',\n",
       " '#91db57',\n",
       " '#86db57',\n",
       " '#7bdb57',\n",
       " '#70db57',\n",
       " '#65db57',\n",
       " '#5adb57',\n",
       " '#57db5f',\n",
       " '#57db6a',\n",
       " '#57db75',\n",
       " '#57db80',\n",
       " '#57db8b',\n",
       " '#57db96',\n",
       " '#57dba1',\n",
       " '#57dbac',\n",
       " '#57dbb7',\n",
       " '#57dbc2',\n",
       " '#57dbcd',\n",
       " '#57dbd8',\n",
       " '#57d3db',\n",
       " '#57c8db',\n",
       " '#57bddb',\n",
       " '#57b2db',\n",
       " '#57a7db',\n",
       " '#579cdb',\n",
       " '#5791db',\n",
       " '#5786db',\n",
       " '#577bdb',\n",
       " '#5770db',\n",
       " '#5765db',\n",
       " '#575adb',\n",
       " '#5f57db',\n",
       " '#6a57db',\n",
       " '#7557db',\n",
       " '#8057db',\n",
       " '#8b57db',\n",
       " '#9657db',\n",
       " '#a157db',\n",
       " '#ac57db',\n",
       " '#b757db',\n",
       " '#c257db',\n",
       " '#cd57db',\n",
       " '#d857db',\n",
       " '#db57d3',\n",
       " '#db57c8',\n",
       " '#db57bd',\n",
       " '#db57b2',\n",
       " '#db57a7',\n",
       " '#db579c',\n",
       " '#db5791',\n",
       " '#db5786',\n",
       " '#db577b',\n",
       " '#db5770',\n",
       " '#db5765',\n",
       " '#db575a']"
      ]
     },
     "execution_count": 4,
     "metadata": {},
     "output_type": "execute_result"
    }
   ],
   "source": [
    "palette_hex = palette.as_hex()\n",
    "palette_hex"
   ]
  },
  {
   "cell_type": "code",
   "execution_count": 5,
   "id": "a6f7580a",
   "metadata": {},
   "outputs": [
    {
     "data": {
      "text/plain": [
       "list"
      ]
     },
     "execution_count": 5,
     "metadata": {},
     "output_type": "execute_result"
    }
   ],
   "source": [
    "type(parts)"
   ]
  },
  {
   "cell_type": "code",
   "execution_count": null,
   "id": "b2f03598",
   "metadata": {},
   "outputs": [],
   "source": []
  },
  {
   "cell_type": "code",
   "execution_count": 6,
   "id": "134a86f6",
   "metadata": {},
   "outputs": [
    {
     "name": "stderr",
     "output_type": "stream",
     "text": [
      "Unknown tag a\n",
      "Unknown tag title\n"
     ]
    },
    {
     "data": {
      "image/png": "[encoded data removed]",
      "text/plain": [
       "<Figure size 640x480 with 1 Axes>"
      ]
     },
     "metadata": {},
     "output_type": "display_data"
    }
   ],
   "source": [
    "import pyanatomogram\n",
    "anatomogram = pyanatomogram.Anatomogram('gallus_gallus')\n",
    "plt.title(\"pollo\")\n",
    "#anatomogram.highlight_tissues({'heart': 0, 'lung': 2, 'brain': 3, 'colon': 1, 'liver': 4}, cmap='Reds')\n",
    "anatomogram.set_tissue_style('heart', **{'fill': 'blue', 'stroke': 'black'})\n",
    "anatomogram.set_tissue_style('brain', fill='green')\n",
    "anatomogram.to_matplotlib()\n",
    "\n",
    "plt.show()\n"
   ]
  },
  {
   "cell_type": "code",
   "execution_count": 7,
   "id": "cfe0b69f",
   "metadata": {},
   "outputs": [
    {
     "ename": "NameError",
     "evalue": "name 'ddd' is not defined",
     "output_type": "error",
     "traceback": [
      "\u001b[1;31m---------------------------------------------------------------------------\u001b[0m",
      "\u001b[1;31mNameError\u001b[0m                                 Traceback (most recent call last)",
      "Cell \u001b[1;32mIn[7], line 5\u001b[0m\n\u001b[0;32m      2\u001b[0m     \u001b[38;5;28;01mfor\u001b[39;00m k, v \u001b[38;5;129;01min\u001b[39;00m \u001b[38;5;28mdict\u001b[39m\u001b[38;5;241m.\u001b[39mitems():\n\u001b[0;32m      3\u001b[0m         \u001b[38;5;28mprint\u001b[39m(k, v)\n\u001b[1;32m----> 5\u001b[0m getList(\u001b[43mddd\u001b[49m)\n",
      "\u001b[1;31mNameError\u001b[0m: name 'ddd' is not defined"
     ]
    }
   ],
   "source": [
    "def getList(dict):\n",
    "    for k, v in dict.items():\n",
    "        print(k, v)\n",
    "\n",
    "getList(ddd)"
   ]
  },
  {
   "cell_type": "code",
   "execution_count": null,
   "id": "c16f9f68",
   "metadata": {},
   "outputs": [],
   "source": [
    "fig, ax = plt.subplots(figsize=(2, 2), facecolor='lightskyblue',\n",
    "                       layout='constrained')\n",
    "\n",
    "anatomogram.to_matplotlib(ax=ax)\n",
    "cmap = mpl.cm.Reds\n",
    "norm = mpl.colors.Normalize()\n",
    "\n",
    "plt.colorbar(mpl.cm.ScalarMappable(norm=norm, cmap=cmap), ax=ax,\n",
    "                           orientation='horizontal', label='Relative expression')\n",
    "#plt.show()"
   ]
  },
  {
   "cell_type": "markdown",
   "id": "861fbd73",
   "metadata": {},
   "source": [
    "------------------------"
   ]
  },
  {
   "cell_type": "code",
   "execution_count": 8,
   "id": "c563db66",
   "metadata": {},
   "outputs": [
    {
     "ename": "OSError",
     "evalue": "no library called \"cairo-2\" was found\nno library called \"cairo\" was found\nno library called \"libcairo-2\" was found\ncannot load library 'libcairo.so.2': error 0x7e\ncannot load library 'libcairo.2.dylib': error 0x7e\ncannot load library 'libcairo-2.dll': error 0x7e",
     "output_type": "error",
     "traceback": [
      "\u001b[1;31m---------------------------------------------------------------------------\u001b[0m",
      "\u001b[1;31mOSError\u001b[0m                                   Traceback (most recent call last)",
      "Cell \u001b[1;32mIn[8], line 7\u001b[0m\n\u001b[0;32m      5\u001b[0m \u001b[38;5;28;01mfrom\u001b[39;00m \u001b[38;5;21;01mPIL\u001b[39;00m \u001b[38;5;28;01mimport\u001b[39;00m Image\n\u001b[0;32m      6\u001b[0m \u001b[38;5;28;01mimport\u001b[39;00m \u001b[38;5;21;01mrequests\u001b[39;00m\n\u001b[1;32m----> 7\u001b[0m \u001b[38;5;28;01mfrom\u001b[39;00m \u001b[38;5;21;01mcairosvg\u001b[39;00m \u001b[38;5;28;01mimport\u001b[39;00m svg2png\n\u001b[0;32m      8\u001b[0m \u001b[38;5;28;01mimport\u001b[39;00m \u001b[38;5;21;01mos\u001b[39;00m\n\u001b[0;32m     10\u001b[0m anatomogram \u001b[38;5;241m=\u001b[39m pyanatomogram\u001b[38;5;241m.\u001b[39mAnatomogram(\u001b[38;5;124m'\u001b[39m\u001b[38;5;124mhomo_sapiens.male\u001b[39m\u001b[38;5;124m'\u001b[39m)\n",
      "File \u001b[1;32m~\\AppData\\Local\\anaconda3\\envs\\ManuDrafts\\lib\\site-packages\\cairosvg\\__init__.py:26\u001b[0m\n\u001b[0;32m     22\u001b[0m VERSION \u001b[38;5;241m=\u001b[39m __version__ \u001b[38;5;241m=\u001b[39m (ROOT \u001b[38;5;241m/\u001b[39m \u001b[38;5;124m'\u001b[39m\u001b[38;5;124mVERSION\u001b[39m\u001b[38;5;124m'\u001b[39m)\u001b[38;5;241m.\u001b[39mread_text()\u001b[38;5;241m.\u001b[39mstrip()\n\u001b[0;32m     25\u001b[0m \u001b[38;5;66;03m# VERSION is used in the \"url\" module imported by \"surface\"\u001b[39;00m\n\u001b[1;32m---> 26\u001b[0m \u001b[38;5;28;01mfrom\u001b[39;00m \u001b[38;5;21;01m.\u001b[39;00m \u001b[38;5;28;01mimport\u001b[39;00m surface  \u001b[38;5;66;03m# noqa isort:skip\u001b[39;00m\n\u001b[0;32m     29\u001b[0m SURFACES \u001b[38;5;241m=\u001b[39m {\n\u001b[0;32m     30\u001b[0m     \u001b[38;5;124m'\u001b[39m\u001b[38;5;124mPDF\u001b[39m\u001b[38;5;124m'\u001b[39m: surface\u001b[38;5;241m.\u001b[39mPDFSurface,\n\u001b[0;32m     31\u001b[0m     \u001b[38;5;124m'\u001b[39m\u001b[38;5;124mPNG\u001b[39m\u001b[38;5;124m'\u001b[39m: surface\u001b[38;5;241m.\u001b[39mPNGSurface,\n\u001b[1;32m   (...)\u001b[0m\n\u001b[0;32m     34\u001b[0m     \u001b[38;5;124m'\u001b[39m\u001b[38;5;124mSVG\u001b[39m\u001b[38;5;124m'\u001b[39m: surface\u001b[38;5;241m.\u001b[39mSVGSurface,\n\u001b[0;32m     35\u001b[0m }\n\u001b[0;32m     38\u001b[0m \u001b[38;5;28;01mdef\u001b[39;00m \u001b[38;5;21msvg2svg\u001b[39m(bytestring\u001b[38;5;241m=\u001b[39m\u001b[38;5;28;01mNone\u001b[39;00m, \u001b[38;5;241m*\u001b[39m, file_obj\u001b[38;5;241m=\u001b[39m\u001b[38;5;28;01mNone\u001b[39;00m, url\u001b[38;5;241m=\u001b[39m\u001b[38;5;28;01mNone\u001b[39;00m, dpi\u001b[38;5;241m=\u001b[39m\u001b[38;5;241m96\u001b[39m,\n\u001b[0;32m     39\u001b[0m             parent_width\u001b[38;5;241m=\u001b[39m\u001b[38;5;28;01mNone\u001b[39;00m, parent_height\u001b[38;5;241m=\u001b[39m\u001b[38;5;28;01mNone\u001b[39;00m, scale\u001b[38;5;241m=\u001b[39m\u001b[38;5;241m1\u001b[39m, unsafe\u001b[38;5;241m=\u001b[39m\u001b[38;5;28;01mFalse\u001b[39;00m,\n\u001b[0;32m     40\u001b[0m             background_color\u001b[38;5;241m=\u001b[39m\u001b[38;5;28;01mNone\u001b[39;00m, negate_colors\u001b[38;5;241m=\u001b[39m\u001b[38;5;28;01mFalse\u001b[39;00m, invert_images\u001b[38;5;241m=\u001b[39m\u001b[38;5;28;01mFalse\u001b[39;00m,\n\u001b[0;32m     41\u001b[0m             write_to\u001b[38;5;241m=\u001b[39m\u001b[38;5;28;01mNone\u001b[39;00m, output_width\u001b[38;5;241m=\u001b[39m\u001b[38;5;28;01mNone\u001b[39;00m, output_height\u001b[38;5;241m=\u001b[39m\u001b[38;5;28;01mNone\u001b[39;00m):\n",
      "File \u001b[1;32m~\\AppData\\Local\\anaconda3\\envs\\ManuDrafts\\lib\\site-packages\\cairosvg\\surface.py:9\u001b[0m\n\u001b[0;32m      6\u001b[0m \u001b[38;5;28;01mimport\u001b[39;00m \u001b[38;5;21;01mcopy\u001b[39;00m\n\u001b[0;32m      7\u001b[0m \u001b[38;5;28;01mimport\u001b[39;00m \u001b[38;5;21;01mio\u001b[39;00m\n\u001b[1;32m----> 9\u001b[0m \u001b[38;5;28;01mimport\u001b[39;00m \u001b[38;5;21;01mcairocffi\u001b[39;00m \u001b[38;5;28;01mas\u001b[39;00m \u001b[38;5;21;01mcairo\u001b[39;00m\n\u001b[0;32m     11\u001b[0m \u001b[38;5;28;01mfrom\u001b[39;00m \u001b[38;5;21;01m.\u001b[39;00m\u001b[38;5;21;01mcolors\u001b[39;00m \u001b[38;5;28;01mimport\u001b[39;00m color, negate_color\n\u001b[0;32m     12\u001b[0m \u001b[38;5;28;01mfrom\u001b[39;00m \u001b[38;5;21;01m.\u001b[39;00m\u001b[38;5;21;01mdefs\u001b[39;00m \u001b[38;5;28;01mimport\u001b[39;00m (\n\u001b[0;32m     13\u001b[0m     apply_filter_after_painting, apply_filter_before_painting, clip_path,\n\u001b[0;32m     14\u001b[0m     filter_, gradient_or_pattern, linear_gradient, marker, mask, paint_mask,\n\u001b[0;32m     15\u001b[0m     parse_all_defs, pattern, prepare_filter, radial_gradient, use)\n",
      "File \u001b[1;32m~\\AppData\\Local\\anaconda3\\envs\\ManuDrafts\\lib\\site-packages\\cairocffi\\__init__.py:47\u001b[0m\n\u001b[0;32m     42\u001b[0m     error_message \u001b[38;5;241m=\u001b[39m \u001b[38;5;124m'\u001b[39m\u001b[38;5;130;01m\\n\u001b[39;00m\u001b[38;5;124m'\u001b[39m\u001b[38;5;241m.\u001b[39mjoin(  \u001b[38;5;66;03m# pragma: no cover\u001b[39;00m\n\u001b[0;32m     43\u001b[0m         \u001b[38;5;28mstr\u001b[39m(exception) \u001b[38;5;28;01mfor\u001b[39;00m exception \u001b[38;5;129;01min\u001b[39;00m exceptions)\n\u001b[0;32m     44\u001b[0m     \u001b[38;5;28;01mraise\u001b[39;00m \u001b[38;5;167;01mOSError\u001b[39;00m(error_message)  \u001b[38;5;66;03m# pragma: no cover\u001b[39;00m\n\u001b[1;32m---> 47\u001b[0m cairo \u001b[38;5;241m=\u001b[39m \u001b[43mdlopen\u001b[49m\u001b[43m(\u001b[49m\n\u001b[0;32m     48\u001b[0m \u001b[43m    \u001b[49m\u001b[43mffi\u001b[49m\u001b[43m,\u001b[49m\u001b[43m \u001b[49m\u001b[43m(\u001b[49m\u001b[38;5;124;43m'\u001b[39;49m\u001b[38;5;124;43mcairo-2\u001b[39;49m\u001b[38;5;124;43m'\u001b[39;49m\u001b[43m,\u001b[49m\u001b[43m \u001b[49m\u001b[38;5;124;43m'\u001b[39;49m\u001b[38;5;124;43mcairo\u001b[39;49m\u001b[38;5;124;43m'\u001b[39;49m\u001b[43m,\u001b[49m\u001b[43m \u001b[49m\u001b[38;5;124;43m'\u001b[39;49m\u001b[38;5;124;43mlibcairo-2\u001b[39;49m\u001b[38;5;124;43m'\u001b[39;49m\u001b[43m)\u001b[49m\u001b[43m,\u001b[49m\n\u001b[0;32m     49\u001b[0m \u001b[43m    \u001b[49m\u001b[43m(\u001b[49m\u001b[38;5;124;43m'\u001b[39;49m\u001b[38;5;124;43mlibcairo.so.2\u001b[39;49m\u001b[38;5;124;43m'\u001b[39;49m\u001b[43m,\u001b[49m\u001b[43m \u001b[49m\u001b[38;5;124;43m'\u001b[39;49m\u001b[38;5;124;43mlibcairo.2.dylib\u001b[39;49m\u001b[38;5;124;43m'\u001b[39;49m\u001b[43m,\u001b[49m\u001b[43m \u001b[49m\u001b[38;5;124;43m'\u001b[39;49m\u001b[38;5;124;43mlibcairo-2.dll\u001b[39;49m\u001b[38;5;124;43m'\u001b[39;49m\u001b[43m)\u001b[49m\u001b[43m)\u001b[49m\n\u001b[0;32m     52\u001b[0m \u001b[38;5;28;01mclass\u001b[39;00m \u001b[38;5;21;01m_keepref\u001b[39;00m(\u001b[38;5;28mobject\u001b[39m):\n\u001b[0;32m     53\u001b[0m \u001b[38;5;250m    \u001b[39m\u001b[38;5;124;03m\"\"\"Function wrapper that keeps a reference to another object.\"\"\"\u001b[39;00m\n",
      "File \u001b[1;32m~\\AppData\\Local\\anaconda3\\envs\\ManuDrafts\\lib\\site-packages\\cairocffi\\__init__.py:44\u001b[0m, in \u001b[0;36mdlopen\u001b[1;34m(ffi, library_names, filenames)\u001b[0m\n\u001b[0;32m     40\u001b[0m         exceptions\u001b[38;5;241m.\u001b[39mappend(exception)\n\u001b[0;32m     42\u001b[0m error_message \u001b[38;5;241m=\u001b[39m \u001b[38;5;124m'\u001b[39m\u001b[38;5;130;01m\\n\u001b[39;00m\u001b[38;5;124m'\u001b[39m\u001b[38;5;241m.\u001b[39mjoin(  \u001b[38;5;66;03m# pragma: no cover\u001b[39;00m\n\u001b[0;32m     43\u001b[0m     \u001b[38;5;28mstr\u001b[39m(exception) \u001b[38;5;28;01mfor\u001b[39;00m exception \u001b[38;5;129;01min\u001b[39;00m exceptions)\n\u001b[1;32m---> 44\u001b[0m \u001b[38;5;28;01mraise\u001b[39;00m \u001b[38;5;167;01mOSError\u001b[39;00m(error_message)\n",
      "\u001b[1;31mOSError\u001b[0m: no library called \"cairo-2\" was found\nno library called \"cairo\" was found\nno library called \"libcairo-2\" was found\ncannot load library 'libcairo.so.2': error 0x7e\ncannot load library 'libcairo.2.dylib': error 0x7e\ncannot load library 'libcairo-2.dll': error 0x7e"
     ]
    }
   ],
   "source": [
    "import pyanatomogram\n",
    "import matplotlib.pyplot as plt\n",
    "import warnings\n",
    "warnings.filterwarnings(\"ignore\")\n",
    "from PIL import Image\n",
    "import requests\n",
    "from cairosvg import svg2png\n",
    "import os\n",
    "\n",
    "anatomogram = pyanatomogram.Anatomogram('homo_sapiens.male')\n",
    "#plt.title(\"pollo\")\n",
    "#anatomogram.highlight_tissues({'heart': 0, 'lung': 2, 'brain': 3, 'colon': 1, 'liver': 4}, cmap='Reds')\n",
    "anatomogram.set_tissue_style('heart', **{'fill': 'blue', 'stroke': 'black'})\n",
    "anatomogram.set_tissue_style('brain', fill='green')\n",
    "#anatomogram.to_matplotlib()\n",
    "anatomogram.save_svg('anatomogram.svg')\n",
    "\n",
    "#plt.imshow('anatomogram.svg')\n",
    "#im_plt = plt.imread('./anatomogram.svg')\n",
    "\n",
    "path= os.getcwd() + '\\\\anatomogram.svg'\n",
    "print(path)\n",
    "image=Image.open(path)\n",
    "\n",
    "plt.show()"
   ]
  },
  {
   "cell_type": "code",
   "execution_count": null,
   "id": "d151c49d",
   "metadata": {},
   "outputs": [],
   "source": [
    "\n",
    "print('Get current working directory : ', os.getcwd())\n",
    "\n",
    "type(os.getcwd())\n"
   ]
  },
  {
   "cell_type": "code",
   "execution_count": null,
   "id": "d475a639",
   "metadata": {},
   "outputs": [],
   "source": [
    "!pip install cairosvg"
   ]
  },
  {
   "cell_type": "code",
   "execution_count": null,
   "id": "bfb5606c",
   "metadata": {},
   "outputs": [],
   "source": []
  }
 ],
 "metadata": {
  "kernelspec": {
   "display_name": "Python 3 (ipykernel)",
   "language": "python",
   "name": "python3"
  },
  "language_info": {
   "codemirror_mode": {
    "name": "ipython",
    "version": 3
   },
   "file_extension": ".py",
   "mimetype": "text/x-python",
   "name": "python",
   "nbconvert_exporter": "python",
   "pygments_lexer": "ipython3",
   "version": "3.10.10"
  }
 },
 "nbformat": 4,
 "nbformat_minor": 5
}
